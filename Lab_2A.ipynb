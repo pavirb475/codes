{
 "cells": [
  {
   "cell_type": "code",
   "execution_count": 2,
   "id": "0bb75f86-6d1c-42b8-9aa0-bfe688bb8393",
   "metadata": {},
   "outputs": [
    {
     "name": "stdout",
     "output_type": "stream",
     "text": [
      "('J1', 'J2', 'J3')\n",
      " Total Time: 43\n",
      "('J1', 'J3', 'J2')\n",
      " Total Time: 47\n",
      "('J2', 'J1', 'J3')\n",
      " Total Time: 46\n",
      "('J2', 'J3', 'J1')\n",
      " Total Time: 53\n",
      "('J3', 'J1', 'J2')\n",
      " Total Time: 54\n",
      "('J3', 'J2', 'J1')\n",
      " Total Time: 57\n",
      "Optimal Schedule: ('J1', 'J2', 'J3') and Minimum Total Time: 43\n"
     ]
    }
   ],
   "source": [
    "from itertools import permutations\n",
    "\n",
    "jobs = {'J1':5, 'J2':8, 'J3':12}  \n",
    "\n",
    "mintottime = float('inf')   #infinity\n",
    "optschd = None  \n",
    "\n",
    "for schedule in permutations(jobs.keys(), 3):  \n",
    "    print(schedule)\n",
    "\n",
    "    complttime = 0\n",
    "    tottime = 0\n",
    "    for job in schedule:\n",
    "        complttime += jobs[job]\n",
    "        tottime += complttime\n",
    "    print(f\" Total Time: {tottime}\") \n",
    "    if tottime < mintottime:\n",
    "        mintottime = tottime\n",
    "        optschd = schedule\n",
    "\n",
    "print(f\"Optimal Schedule: {optschd} and Minimum Total Time: {mintottime}\")"
   ]
  },
  {
   "cell_type": "code",
   "execution_count": 9,
   "id": "7aab27ed-365e-4adc-aa5d-7286afbc77ae",
   "metadata": {},
   "outputs": [
    {
     "name": "stdout",
     "output_type": "stream",
     "text": [
      "('J1', 'J2', 'J3', 'J4')\n",
      "Schedule: ('J1', 'J2', 'J3', 'J4'), Total Time: 72\n",
      "('J1', 'J2', 'J4', 'J3')\n",
      "Schedule: ('J1', 'J2', 'J4', 'J3'), Total Time: 73\n",
      "('J1', 'J3', 'J2', 'J4')\n",
      "Schedule: ('J1', 'J3', 'J2', 'J4'), Total Time: 69\n",
      "('J1', 'J3', 'J4', 'J2')\n",
      "Schedule: ('J1', 'J3', 'J4', 'J2'), Total Time: 67\n",
      "('J1', 'J4', 'J2', 'J3')\n",
      "Schedule: ('J1', 'J4', 'J2', 'J3'), Total Time: 71\n",
      "('J1', 'J4', 'J3', 'J2')\n",
      "Schedule: ('J1', 'J4', 'J3', 'J2'), Total Time: 68\n",
      "('J2', 'J1', 'J3', 'J4')\n",
      "Schedule: ('J2', 'J1', 'J3', 'J4'), Total Time: 77\n",
      "('J2', 'J1', 'J4', 'J3')\n",
      "Schedule: ('J2', 'J1', 'J4', 'J3'), Total Time: 78\n",
      "('J2', 'J3', 'J1', 'J4')\n",
      "Schedule: ('J2', 'J3', 'J1', 'J4'), Total Time: 79\n",
      "('J2', 'J3', 'J4', 'J1')\n",
      "Schedule: ('J2', 'J3', 'J4', 'J1'), Total Time: 82\n",
      "('J2', 'J4', 'J1', 'J3')\n",
      "Schedule: ('J2', 'J4', 'J1', 'J3'), Total Time: 81\n",
      "('J2', 'J4', 'J3', 'J1')\n",
      "Schedule: ('J2', 'J4', 'J3', 'J1'), Total Time: 83\n",
      "('J3', 'J1', 'J2', 'J4')\n",
      "Schedule: ('J3', 'J1', 'J2', 'J4'), Total Time: 71\n",
      "('J3', 'J1', 'J4', 'J2')\n",
      "Schedule: ('J3', 'J1', 'J4', 'J2'), Total Time: 69\n",
      "('J3', 'J2', 'J1', 'J4')\n",
      "Schedule: ('J3', 'J2', 'J1', 'J4'), Total Time: 76\n",
      "('J3', 'J2', 'J4', 'J1')\n",
      "Schedule: ('J3', 'J2', 'J4', 'J1'), Total Time: 79\n",
      "('J3', 'J4', 'J1', 'J2')\n",
      "Schedule: ('J3', 'J4', 'J1', 'J2'), Total Time: 72\n",
      "('J3', 'J4', 'J2', 'J1')\n",
      "Schedule: ('J3', 'J4', 'J2', 'J1'), Total Time: 77\n",
      "('J4', 'J1', 'J2', 'J3')\n",
      "Schedule: ('J4', 'J1', 'J2', 'J3'), Total Time: 74\n",
      "('J4', 'J1', 'J3', 'J2')\n",
      "Schedule: ('J4', 'J1', 'J3', 'J2'), Total Time: 71\n",
      "('J4', 'J2', 'J1', 'J3')\n",
      "Schedule: ('J4', 'J2', 'J1', 'J3'), Total Time: 79\n",
      "('J4', 'J2', 'J3', 'J1')\n",
      "Schedule: ('J4', 'J2', 'J3', 'J1'), Total Time: 81\n",
      "('J4', 'J3', 'J1', 'J2')\n",
      "Schedule: ('J4', 'J3', 'J1', 'J2'), Total Time: 73\n",
      "('J4', 'J3', 'J2', 'J1')\n",
      "Schedule: ('J4', 'J3', 'J2', 'J1'), Total Time: 78\n",
      "Optimal Schedule: ('J1', 'J3', 'J4', 'J2') and Minimum Total Time: 67\n"
     ]
    }
   ],
   "source": [
    "from itertools import permutations\n",
    "\n",
    "jobs = {'J1': 5, 'J2': 10, 'J3': 7, 'J4': 8}\n",
    "\n",
    "mintottime = float('inf')  # infinity\n",
    "optschd = None  \n",
    "\n",
    "for schedule in permutations(jobs.keys(), len(jobs)):  \n",
    "    print(schedule)\n",
    "\n",
    "    complttime = 0\n",
    "    tottime = 0\n",
    "    \n",
    "    for job in schedule:\n",
    "        complttime += jobs[job]\n",
    "        tottime += complttime\n",
    "    \n",
    "    print(f\"Schedule: {schedule}, Total Time: {tottime}\") \n",
    "    \n",
    "    if tottime < mintottime:\n",
    "        mintottime = tottime\n",
    "        optschd = schedule\n",
    "\n",
    "print(f\"Optimal Schedule: {optschd} and Minimum Total Time: {mintottime}\")"
   ]
  },
  {
   "cell_type": "code",
   "execution_count": 3,
   "id": "bab48dfb-5920-48c3-85dd-61dd84b6cc31",
   "metadata": {},
   "outputs": [
    {
     "name": "stdout",
     "output_type": "stream",
     "text": [
      "Scheduled Jobs: [7, 4, 1, 2, 3]\n",
      "Total Profit: 215\n"
     ]
    }
   ],
   "source": [
    "jobs = {\n",
    "    1: {'deadln': 3, 'prof': 50},\n",
    "    2: {'deadln': 4, 'prof': 20},\n",
    "    3: {'deadln': 5, 'prof': 70},\n",
    "    4: {'deadln': 3, 'prof': 15},\n",
    "    5: {'deadln': 2, 'prof': 10},\n",
    "    6: {'deadln': 1, 'prof': 47},\n",
    "    7: {'deadln': 1, 'prof': 60}\n",
    "}\n",
    "\n",
    "sortedjobs = sorted(jobs.items(), key=lambda x: x[1]['prof'], reverse=True)\n",
    "maxdeadln = max(job[1]['deadln'] for job in sortedjobs)\n",
    "schedule = [-1] * maxdeadln\n",
    "totprof = 0\n",
    "    \n",
    "for jobid, details in sortedjobs:\n",
    "    deadline, profit = details['deadln'], details['prof']\n",
    "    for t in range(min(deadline, maxdeadln) - 1, -1, -1):\n",
    "        if schedule[t] == -1:\n",
    "            schedule[t] = jobid\n",
    "            totprof += profit\n",
    "            break\n",
    "    \n",
    "print(f\"Scheduled Jobs: {[j for j in schedule if j != -1]}\")\n",
    "print(f\"Total Profit: {totprof}\")"
   ]
  },
  {
   "cell_type": "code",
   "execution_count": 19,
   "id": "700672f9-f24b-49e3-ae62-eeb33c444991",
   "metadata": {},
   "outputs": [
    {
     "name": "stdout",
     "output_type": "stream",
     "text": [
      "Optimal Route: ('A', 'C', 'B', 'D', 'E', 'A')\n",
      "Minimum Total Distance: 32\n"
     ]
    }
   ],
   "source": [
    "from itertools import permutations\n",
    "graph = {\n",
    "    'A': {'B': 12, 'C': 10, 'D': 19, 'E': 8},\n",
    "    'B': {'A': 12, 'C': 3, 'D': 7, 'E': 2},\n",
    "    'C': {'A': 10, 'B': 3, 'D': 6, 'E': 20},\n",
    "    'D': {'A': 19, 'B': 7, 'C': 6, 'E': 4},\n",
    "    'E': {'A': 8, 'B': 2, 'C': 20, 'D': 4}\n",
    "}\n",
    "\n",
    "start = 'A'\n",
    "edges = list(graph.keys())\n",
    "edges.remove(start)  \n",
    "\n",
    "mincost = float('inf')\n",
    "optpath = None\n",
    "\n",
    "for route in permutations(edges): \n",
    "    route = (start,) + route + (start,)  #tuple\n",
    "    \n",
    "    distance = sum(graph[route[i]][route[i + 1]] for i in range(len(route) - 1))\n",
    "    \n",
    "    if distance < mincost:\n",
    "        mincost = distance\n",
    "        optpath = route\n",
    "\n",
    "print(\"Optimal Route:\", optpath)\n",
    "print(\"Minimum Total Distance:\", mincost)"
   ]
  },
  {
   "cell_type": "code",
   "execution_count": 13,
   "id": "96efd478-05ee-43a6-a761-311f2132bf18",
   "metadata": {},
   "outputs": [
    {
     "name": "stdout",
     "output_type": "stream",
     "text": [
      "Best Combination: 1010\n",
      "Selected Items: [1, 3]\n",
      "Total Weight: 9\n",
      "Maximum Profit: 82\n"
     ]
    }
   ],
   "source": [
    "profits = [50, 30, 32, 27]\n",
    "weights = [5, 6, 4, 3]\n",
    "capacity = 11\n",
    "n = len(profits)\n",
    "maxprof = 0\n",
    "bestcomb = None\n",
    "\n",
    "#binary reps(0000 to 1111)\n",
    "for num in range(1, 2 ** n):\n",
    "    binaryrep = format(num, f'0{n}b') \n",
    "    totalweight = sum(weights[i] for i in range(n) if binaryrep[i] == '1')\n",
    "    totalprofit = sum(profits[i] for i in range(n) if binaryrep[i] == '1')\n",
    "    \n",
    "    if totalweight <= capacity and totalprofit > maxprof:\n",
    "        maxprof = totalprofit\n",
    "        bestcomb = binaryrep\n",
    "\n",
    "print(f\"Best Combination: {bestcomb}\")\n",
    "print(f\"Selected Items: {[i+1 for i in range(n) if bestcomb[i] == z'1']}\")\n",
    "print(f\"Total Weight: {sum(weights[i] for i in range(n) if bestcomb[i] == '1')}\")\n",
    "print(f\"Maximum Profit: {maxprof}\")\n"
   ]
  },
  {
   "cell_type": "code",
   "execution_count": 23,
   "id": "f3fee379-53be-4114-8579-f5c43c6621e0",
   "metadata": {},
   "outputs": [
    {
     "name": "stdout",
     "output_type": "stream",
     "text": [
      "Pattern is found at index: 2\n",
      "Pattern is found at index: 12\n"
     ]
    }
   ],
   "source": [
    "pattern = \"ABD\"\n",
    "string=\"ABABDABACDABABDABAB\"\n",
    "\n",
    "lenpt=len(pattern)\n",
    "lenstr=len(string)\n",
    "for i in range(lenstr - lenpt + 1): \n",
    "        if string[i:i+lenpt] == pattern: \n",
    "            print(f\"Pattern is found at index: {i}\")\n"
   ]
  },
  {
   "cell_type": "code",
   "execution_count": null,
   "id": "4d869e71-1df8-4947-b349-47bec13889ad",
   "metadata": {},
   "outputs": [],
   "source": []
  },
  {
   "cell_type": "code",
   "execution_count": null,
   "id": "abf2e82a-5de7-4148-89ab-20ccfb29611b",
   "metadata": {},
   "outputs": [],
   "source": []
  },
  {
   "cell_type": "code",
   "execution_count": null,
   "id": "72aa0f2a-b87f-477a-a66e-380e32051e7b",
   "metadata": {},
   "outputs": [],
   "source": []
  },
  {
   "cell_type": "code",
   "execution_count": null,
   "id": "8562ffbc-17f4-43f1-b673-6fd7e5098c32",
   "metadata": {},
   "outputs": [],
   "source": []
  },
  {
   "cell_type": "code",
   "execution_count": 3,
   "id": "7a0096f9-5071-48b3-989b-d99b9b4eb3bd",
   "metadata": {},
   "outputs": [
    {
     "name": "stdout",
     "output_type": "stream",
     "text": [
      "('J1', 'J2', 'J3')\n",
      "34\n",
      "('J1', 'J3', 'J2')\n",
      "138\n",
      "('J2', 'J1', 'J3')\n",
      "310\n",
      "('J2', 'J3', 'J1')\n",
      "558\n",
      "('J3', 'J1', 'J2')\n",
      "870\n",
      "('J3', 'J2', 'J1')\n",
      "1254\n",
      "('J1', 'J2', 'J3')\n"
     ]
    }
   ],
   "source": [
    "from itertools import permutations\n",
    "\n",
    "jobs={'J1':2, 'J2':8, 'J3':12}\n",
    "compttime=0\n",
    "tottime=0\n",
    "mintottime=float('inf')\n",
    "optschd=None\n",
    "for perms in permutations(jobs.keys(),3):\n",
    "    print(perms)\n",
    "    for i in perms:\n",
    "        compttime+=jobs[i]\n",
    "        tottime+=compttime\n",
    "    print(tottime)\n",
    "    if tottime<mintottime:\n",
    "        mintottime=tottime\n",
    "        optshed=perms\n",
    "print(optshed)"
   ]
  },
  {
   "cell_type": "code",
   "execution_count": 4,
   "id": "30ab3876-06f6-4f7f-b816-5f5b17113a53",
   "metadata": {},
   "outputs": [
    {
     "name": "stdout",
     "output_type": "stream",
     "text": [
      "Pattern is found at index: 3\n"
     ]
    }
   ],
   "source": [
    "pt=\"PAV\"\n",
    "string=\"IAMPAVS\"\n",
    "for i in range(len(string)-len(pt)+1):\n",
    "    if string[i:i+len(pt)]==pt:\n",
    "        print(f\"Pattern is found at index: {i}\")\n"
   ]
  },
  {
   "cell_type": "code",
   "execution_count": null,
   "id": "3b88c52f-93f5-4f57-9519-751e3bc03fea",
   "metadata": {},
   "outputs": [],
   "source": []
  }
 ],
 "metadata": {
  "kernelspec": {
   "display_name": "Python 3 (ipykernel)",
   "language": "python",
   "name": "python3"
  },
  "language_info": {
   "codemirror_mode": {
    "name": "ipython",
    "version": 3
   },
   "file_extension": ".py",
   "mimetype": "text/x-python",
   "name": "python",
   "nbconvert_exporter": "python",
   "pygments_lexer": "ipython3",
   "version": "3.10.11"
  }
 },
 "nbformat": 4,
 "nbformat_minor": 5
}
