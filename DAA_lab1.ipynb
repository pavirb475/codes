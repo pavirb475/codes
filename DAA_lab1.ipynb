{
 "cells": [
  {
   "cell_type": "markdown",
   "id": "1c092763",
   "metadata": {},
   "source": [
    "1. Implement an algorithm for linear search. Show its best case, worst case and average case.\n"
   ]
  },
  {
   "cell_type": "code",
   "execution_count": 7,
   "id": "70bab37a-2616-4ed4-a88f-22bc4d0349f5",
   "metadata": {},
   "outputs": [
    {
     "name": "stdin",
     "output_type": "stream",
     "text": [
      "Enter the key to search: 4\n"
     ]
    },
    {
     "name": "stdout",
     "output_type": "stream",
     "text": [
      "Found at position: 1\n"
     ]
    }
   ],
   "source": [
    "valkey=int(input(\"Enter the key to search:\"))\n",
    "listnum= [5,4,6,1,2,9]\n",
    "n = len(listnum)\n",
    "for i in range(n):\n",
    "    if listnum[i] == valkey:\n",
    "        print(\"Found at position:\",i)\n",
    "        break\n",
    "else:\n",
    "     print(\"NOT Found\")\n"
   ]
  },
  {
   "cell_type": "markdown",
   "id": "dcbc7b34",
   "metadata": {},
   "source": [
    "2. Implement an algorithm for binary search. Show its best case, worst case and average case."
   ]
  },
  {
   "cell_type": "code",
   "execution_count": 11,
   "id": "11964dd6-d15e-4427-94bd-506c18701305",
   "metadata": {},
   "outputs": [
    {
     "name": "stdout",
     "output_type": "stream",
     "text": [
      "[1, 2, 4, 5, 6, 8, 9]\n"
     ]
    },
    {
     "name": "stdin",
     "output_type": "stream",
     "text": [
      "Enter the key to search:  4\n"
     ]
    },
    {
     "name": "stdout",
     "output_type": "stream",
     "text": [
      "YES. The number 4 found at index 2\n"
     ]
    }
   ],
   "source": [
    "listnum = [1, 2, 4, 8, 9, 6, 5]\n",
    "listnum.sort()  #sorted list required for binary search\n",
    "print(listnum)\n",
    "valkey = int(input(\"Enter the key to search: \"))  \n",
    "start = 0\n",
    "end = len(listnum) - 1\n",
    "\n",
    "while start <= end:\n",
    "    mid = (start + end) // 2\n",
    "    if listnum[mid] == valkey:\n",
    "        print(f\"YES. The number {valkey} found at index {mid}\")\n",
    "        break\n",
    "    elif listnum[mid] > valkey:\n",
    "        end = mid - 1\n",
    "    else:\n",
    "        start = mid + 1\n",
    "else:\n",
    "    print(\"NO. Not found\")\n"
   ]
  },
  {
   "cell_type": "markdown",
   "id": "8fbe2d05",
   "metadata": {},
   "source": [
    "3. Implement an algorithm for recursive binary search. Show its best case, worst case and average case."
   ]
  },
  {
   "cell_type": "code",
   "execution_count": 14,
   "id": "3f3a8733-2089-47f0-ae71-b46192334f09",
   "metadata": {},
   "outputs": [
    {
     "name": "stdout",
     "output_type": "stream",
     "text": [
      "[1, 2, 2, 4, 5, 6, 8, 9]\n"
     ]
    },
    {
     "name": "stdin",
     "output_type": "stream",
     "text": [
      "Enter the key to search:  6\n"
     ]
    },
    {
     "name": "stdout",
     "output_type": "stream",
     "text": [
      "YES. The number 6 found at index 5\n"
     ]
    }
   ],
   "source": [
    "listnum = [1, 2, 4, 8, 9, 6, 2, 5]\n",
    "listnum.sort() \n",
    "print(listnum)\n",
    "\n",
    "valkey = int(input(\"Enter the key to search: \"))  \n",
    "start = 0\n",
    "end = len(listnum) - 1\n",
    "\n",
    "def recbinarysearch(start, end):\n",
    "    if start > end:\n",
    "        print(\"NO. Not found\")\n",
    "        return\n",
    "    mid = (start + end) // 2\n",
    "    if listnum[mid] == valkey:\n",
    "        print(f\"YES. The number {valkey} found at index {mid}\")\n",
    "    elif listnum[mid] > valkey:\n",
    "        recbinarysearch(start, mid - 1) \n",
    "    else:\n",
    "        recbinarysearch(mid + 1, end) \n",
    "\n",
    "recbinarysearch(start, end)\n"
   ]
  },
  {
   "cell_type": "markdown",
   "id": "463b9aee",
   "metadata": {},
   "source": [
    "3. Implement an algorithm to count the number of capital letters in a file of text. How many comparisons does it do? What is the fewest number of increments it might do? What is the largest number? (Use N for the number of characters in the file when writing your answer.)"
   ]
  },
  {
   "cell_type": "code",
   "execution_count": 7,
   "id": "6ec3dbcd",
   "metadata": {},
   "outputs": [
    {
     "name": "stdout",
     "output_type": "stream",
     "text": [
      "H\n",
      "I\n",
      "P\n",
      "The number of capital letters in a file of text: 3\n"
     ]
    }
   ],
   "source": [
    "file = open(\"pavs.txt\", \"r\")\n",
    "x=file.read()\n",
    "N=0\n",
    "for char in x:\n",
    "    if char.isupper():\n",
    "        print(char)\n",
    "        N+=+1\n",
    "print(\"The number of capital letters in a file of text:\",N)"
   ]
  },
  {
   "cell_type": "markdown",
   "id": "09b117a4",
   "metadata": {},
   "source": [
    "4. There is a set of numbers stored in a file, but we don’t know how many it contains. Implement an algorithm to calculate the average of the numbers stored in this file. What type of operations does your algorithm do? How many of each of these operations does your algorithm do?\n"
   ]
  },
  {
   "cell_type": "code",
   "execution_count": 1,
   "id": "7bd98b24",
   "metadata": {},
   "outputs": [
    {
     "name": "stdout",
     "output_type": "stream",
     "text": [
      "Count: 36\n",
      "Sum: 180.0\n",
      "Average: 5.0\n"
     ]
    }
   ],
   "source": [
    "file = open(\"numbpavi.txt\", \"r\")\n",
    "x=file.read()\n",
    "sums=0\n",
    "count=0\n",
    "for num in x:\n",
    "    if num.isnumeric():\n",
    "        sums=sums+ float(num)\n",
    "        count=count+1\n",
    "print(\"Count:\", count)\n",
    "print(\"Sum:\", sums)\n",
    "avg=sums/count\n",
    "print(\"Average:\",avg)\n",
    "    "
   ]
  },
  {
   "cell_type": "code",
   "execution_count": null,
   "id": "9562a42c-70f5-4696-8260-6b70f95c46fe",
   "metadata": {},
   "outputs": [],
   "source": []
  },
  {
   "cell_type": "markdown",
   "id": "1bf1da2f",
   "metadata": {},
   "source": [
    "5. Implement an algorithm, without using compound conditional expressions, that takes in three integers and determines if they are all distinct. On average, how many comparisons does your algorithm do? Remember to examine all input classes.\n"
   ]
  },
  {
   "cell_type": "code",
   "execution_count": 28,
   "id": "3998b75e",
   "metadata": {},
   "outputs": [
    {
     "name": "stdout",
     "output_type": "stream",
     "text": [
      "Give the 1st integer:1\n",
      "Give the 2nd integer:2\n",
      "Give the 3rd integer:1\n",
      "Not distinct\n"
     ]
    }
   ],
   "source": [
    "x1=int(input(\"Give the 1st integer:\"))\n",
    "x2=int(input(\"Give the 2nd integer:\"))\n",
    "x3=int(input(\"Give the 3rd integer:\"))\n",
    "if x1==x2:\n",
    "    print(\"Not distinct\")\n",
    "elif x2==x3:\n",
    "    print(\"Not distinct\")\n",
    "elif x1==x3:\n",
    "    print(\"Not distinct\")\n",
    "else:\n",
    "    print(\"3 are distinct\")\n"
   ]
  },
  {
   "cell_type": "markdown",
   "id": "3bb9f18f",
   "metadata": {},
   "source": [
    "6. Implement an algorithm that takes in three distinct integers and determines the largest of the three. What are the possible input classes that would have to be considered when analyzing this algorithm? Which one causes your algorithm to do the most comparisons? Which one causes the least? (If there is no difference between the most and least, rewrite the algorithm with simple conditionals and without using temporary variables so that the best case gets done faster than the worst case.)"
   ]
  },
  {
   "cell_type": "code",
   "execution_count": 30,
   "id": "a2419e35",
   "metadata": {},
   "outputs": [
    {
     "name": "stdout",
     "output_type": "stream",
     "text": [
      "Give the 1st integer:2\n",
      "Give the 2nd integer:6\n",
      "Give the 3rd integer:1\n",
      "6\n"
     ]
    }
   ],
   "source": [
    "listnum=[]\n",
    "x1=int(input(\"Give the 1st integer:\"))\n",
    "listnum.append(x1)\n",
    "x2=int(input(\"Give the 2nd integer:\"))\n",
    "listnum.append(x2)\n",
    "x3=int(input(\"Give the 3rd integer:\"))\n",
    "listnum.append(x3)\n",
    "larg=listnum[0]\n",
    "for i in listnum:\n",
    "    if i>larg:\n",
    "        larg=i\n",
    "print(larg)\n",
    "\n",
    "\n"
   ]
  },
  {
   "cell_type": "code",
   "execution_count": 15,
   "id": "e81afa7e",
   "metadata": {},
   "outputs": [
    {
     "name": "stdin",
     "output_type": "stream",
     "text": [
      "Give the 1st integer:  3\n",
      "Give the 2nd integer:  2\n",
      "Give the 3rd integer:  4\n"
     ]
    },
    {
     "name": "stdout",
     "output_type": "stream",
     "text": [
      "4\n"
     ]
    }
   ],
   "source": [
    "x1 = int(input(\"Give the 1st integer: \"))\n",
    "x2 = int(input(\"Give the 2nd integer: \"))\n",
    "x3 = int(input(\"Give the 3rd integer: \"))\n",
    "\n",
    "largest = x1 \n",
    "if x2 > largest:\n",
    "    largest = x2  \n",
    "if x3 > largest:\n",
    "    largest = x3 \n",
    "print(largest)\n"
   ]
  },
  {
   "cell_type": "markdown",
   "id": "74e08e05",
   "metadata": {},
   "source": [
    "7. Write an algorithm to find the second largest element in a list of N values. How many comparisons does your algorithm do in the worst case? "
   ]
  },
  {
   "cell_type": "code",
   "execution_count": 3,
   "id": "4116d3f5",
   "metadata": {},
   "outputs": [
    {
     "name": "stdout",
     "output_type": "stream",
     "text": [
      "Sorted list [1, 2, 4, 5, 6, 9]\n",
      "6\n"
     ]
    }
   ],
   "source": [
    "listnum= [5,4,6,1,2,9]\n",
    "n=len(listnum)\n",
    "for i in range(n - 1):  #used bubble sort \n",
    "    for j in range(n - i - 1):\n",
    "        if listnum[j] > listnum[j + 1]:\n",
    "            listnum[j], listnum[j + 1] = listnum[j + 1], listnum[j]\n",
    "\n",
    "print(\"Sorted list\",listnum)\n",
    "seclast=listnum[n-2]\n",
    "print(seclast)"
   ]
  },
  {
   "cell_type": "code",
   "execution_count": null,
   "id": "dc9cf9dc-179b-4ed8-9eaa-f3ba904a28d4",
   "metadata": {},
   "outputs": [],
   "source": []
  }
 ],
 "metadata": {
  "kernelspec": {
   "display_name": "Python 3 (ipykernel)",
   "language": "python",
   "name": "python3"
  },
  "language_info": {
   "codemirror_mode": {
    "name": "ipython",
    "version": 3
   },
   "file_extension": ".py",
   "mimetype": "text/x-python",
   "name": "python",
   "nbconvert_exporter": "python",
   "pygments_lexer": "ipython3",
   "version": "3.10.11"
  }
 },
 "nbformat": 4,
 "nbformat_minor": 5
}
